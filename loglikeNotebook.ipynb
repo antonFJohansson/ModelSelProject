{
  "nbformat": 4,
  "nbformat_minor": 0,
  "metadata": {
    "colab": {
      "name": "Untitled10.ipynb",
      "version": "0.3.2",
      "provenance": [],
      "include_colab_link": true
    },
    "kernelspec": {
      "name": "python3",
      "display_name": "Python 3"
    }
  },
  "cells": [
    {
      "cell_type": "markdown",
      "metadata": {
        "id": "view-in-github",
        "colab_type": "text"
      },
      "source": [
        "<a href=\"https://colab.research.google.com/github/antonFJohansson/ModelSelProject/blob/master/loglikeNotebook.ipynb\" target=\"_parent\"><img src=\"https://colab.research.google.com/assets/colab-badge.svg\" alt=\"Open In Colab\"/></a>"
      ]
    },
    {
      "metadata": {
        "id": "xRyMxY_MO0JF",
        "colab_type": "code",
        "colab": {}
      },
      "cell_type": "code",
      "source": [
        "import torch\n",
        "from torch.distributions.bernoulli import Bernoulli\n",
        "from torch.distributions.normal import Normal\n",
        "mu = torch.tensor(5., requires_grad = True)\n",
        "sigma = torch.tensor(2., requires_grad = True)\n",
        "alpha = torch.tensor(0.5, requires_grad = True)\n",
        "gamma = Bernoulli(alpha).sample()\n",
        "eps = Normal(0,1).sample()\n",
        "beta = gamma * (mu + sigma*eps) ## Calculate beta\n",
        "beta.backward() ##Calculate all the gradients\n",
        "print('gamma is {}, eps is {:.4f}'.format(gamma, eps))\n",
        "print('The gradient for mu is {}'.format(mu.grad.item()))\n",
        "print('The gradient for sigma is {:.4f}'.format(sigma.grad.item()))\n",
        "print('The gradient for alpha is {}'.format(alpha.grad))\n"
      ],
      "execution_count": 0,
      "outputs": []
    }
  ]
}